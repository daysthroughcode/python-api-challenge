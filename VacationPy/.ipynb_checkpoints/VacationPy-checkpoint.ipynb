{
 "cells": [
  {
   "cell_type": "code",
   "execution_count": 1,
   "metadata": {
    "ExecuteTime": {
     "end_time": "2020-10-17T13:31:23.183264Z",
     "start_time": "2020-10-17T13:31:22.624146Z"
    }
   },
   "outputs": [],
   "source": [
    "#Import Dependencies\n",
    "import pandas as pd\n",
    "import requests as req\n",
    "import json\n",
    "import gmaps\n",
    "import numpy as np"
   ]
  },
  {
   "cell_type": "code",
   "execution_count": 2,
   "metadata": {
    "ExecuteTime": {
     "end_time": "2020-10-17T13:31:23.864113Z",
     "start_time": "2020-10-17T13:31:23.839887Z"
    }
   },
   "outputs": [
    {
     "data": {
      "text/html": [
       "<div>\n",
       "<style scoped>\n",
       "    .dataframe tbody tr th:only-of-type {\n",
       "        vertical-align: middle;\n",
       "    }\n",
       "\n",
       "    .dataframe tbody tr th {\n",
       "        vertical-align: top;\n",
       "    }\n",
       "\n",
       "    .dataframe thead th {\n",
       "        text-align: right;\n",
       "    }\n",
       "</style>\n",
       "<table border=\"1\" class=\"dataframe\">\n",
       "  <thead>\n",
       "    <tr style=\"text-align: right;\">\n",
       "      <th></th>\n",
       "      <th>city</th>\n",
       "      <th>country</th>\n",
       "      <th>latitude</th>\n",
       "      <th>longitude</th>\n",
       "      <th>temp_max</th>\n",
       "      <th>humidity</th>\n",
       "      <th>cloudiness</th>\n",
       "      <th>windspeed</th>\n",
       "    </tr>\n",
       "  </thead>\n",
       "  <tbody>\n",
       "    <tr>\n",
       "      <th>0</th>\n",
       "      <td>Cangzhou</td>\n",
       "      <td>CN</td>\n",
       "      <td>38.32</td>\n",
       "      <td>116.87</td>\n",
       "      <td>56.44</td>\n",
       "      <td>32</td>\n",
       "      <td>0</td>\n",
       "      <td>3.22</td>\n",
       "    </tr>\n",
       "    <tr>\n",
       "      <th>1</th>\n",
       "      <td>Huarmey</td>\n",
       "      <td>PE</td>\n",
       "      <td>-10.07</td>\n",
       "      <td>-78.15</td>\n",
       "      <td>63.19</td>\n",
       "      <td>82</td>\n",
       "      <td>64</td>\n",
       "      <td>5.57</td>\n",
       "    </tr>\n",
       "    <tr>\n",
       "      <th>2</th>\n",
       "      <td>Ushuaia</td>\n",
       "      <td>AR</td>\n",
       "      <td>-54.80</td>\n",
       "      <td>-68.30</td>\n",
       "      <td>41.00</td>\n",
       "      <td>80</td>\n",
       "      <td>40</td>\n",
       "      <td>4.09</td>\n",
       "    </tr>\n",
       "    <tr>\n",
       "      <th>3</th>\n",
       "      <td>Chokurdakh</td>\n",
       "      <td>RU</td>\n",
       "      <td>70.63</td>\n",
       "      <td>147.92</td>\n",
       "      <td>31.95</td>\n",
       "      <td>99</td>\n",
       "      <td>100</td>\n",
       "      <td>10.51</td>\n",
       "    </tr>\n",
       "    <tr>\n",
       "      <th>4</th>\n",
       "      <td>Kavieng</td>\n",
       "      <td>PG</td>\n",
       "      <td>-2.57</td>\n",
       "      <td>150.80</td>\n",
       "      <td>82.33</td>\n",
       "      <td>77</td>\n",
       "      <td>99</td>\n",
       "      <td>12.68</td>\n",
       "    </tr>\n",
       "    <tr>\n",
       "      <th>...</th>\n",
       "      <td>...</td>\n",
       "      <td>...</td>\n",
       "      <td>...</td>\n",
       "      <td>...</td>\n",
       "      <td>...</td>\n",
       "      <td>...</td>\n",
       "      <td>...</td>\n",
       "      <td>...</td>\n",
       "    </tr>\n",
       "    <tr>\n",
       "      <th>556</th>\n",
       "      <td>Biak</td>\n",
       "      <td>ID</td>\n",
       "      <td>-0.91</td>\n",
       "      <td>122.88</td>\n",
       "      <td>78.96</td>\n",
       "      <td>82</td>\n",
       "      <td>98</td>\n",
       "      <td>2.39</td>\n",
       "    </tr>\n",
       "    <tr>\n",
       "      <th>557</th>\n",
       "      <td>Bafoulabé</td>\n",
       "      <td>ML</td>\n",
       "      <td>13.81</td>\n",
       "      <td>-10.83</td>\n",
       "      <td>96.33</td>\n",
       "      <td>40</td>\n",
       "      <td>75</td>\n",
       "      <td>3.53</td>\n",
       "    </tr>\n",
       "    <tr>\n",
       "      <th>558</th>\n",
       "      <td>Shādegān</td>\n",
       "      <td>IR</td>\n",
       "      <td>30.65</td>\n",
       "      <td>48.66</td>\n",
       "      <td>99.48</td>\n",
       "      <td>12</td>\n",
       "      <td>0</td>\n",
       "      <td>11.41</td>\n",
       "    </tr>\n",
       "    <tr>\n",
       "      <th>559</th>\n",
       "      <td>Taiobeiras</td>\n",
       "      <td>BR</td>\n",
       "      <td>-15.81</td>\n",
       "      <td>-42.23</td>\n",
       "      <td>79.66</td>\n",
       "      <td>58</td>\n",
       "      <td>7</td>\n",
       "      <td>9.26</td>\n",
       "    </tr>\n",
       "    <tr>\n",
       "      <th>560</th>\n",
       "      <td>Dolgoderevenskoye</td>\n",
       "      <td>RU</td>\n",
       "      <td>55.34</td>\n",
       "      <td>61.34</td>\n",
       "      <td>62.60</td>\n",
       "      <td>45</td>\n",
       "      <td>40</td>\n",
       "      <td>15.66</td>\n",
       "    </tr>\n",
       "  </tbody>\n",
       "</table>\n",
       "<p>561 rows × 8 columns</p>\n",
       "</div>"
      ],
      "text/plain": [
       "                  city country  latitude  longitude  temp_max  humidity  \\\n",
       "0             Cangzhou      CN     38.32     116.87     56.44        32   \n",
       "1              Huarmey      PE    -10.07     -78.15     63.19        82   \n",
       "2              Ushuaia      AR    -54.80     -68.30     41.00        80   \n",
       "3           Chokurdakh      RU     70.63     147.92     31.95        99   \n",
       "4              Kavieng      PG     -2.57     150.80     82.33        77   \n",
       "..                 ...     ...       ...        ...       ...       ...   \n",
       "556               Biak      ID     -0.91     122.88     78.96        82   \n",
       "557          Bafoulabé      ML     13.81     -10.83     96.33        40   \n",
       "558           Shādegān      IR     30.65      48.66     99.48        12   \n",
       "559         Taiobeiras      BR    -15.81     -42.23     79.66        58   \n",
       "560  Dolgoderevenskoye      RU     55.34      61.34     62.60        45   \n",
       "\n",
       "     cloudiness  windspeed  \n",
       "0             0       3.22  \n",
       "1            64       5.57  \n",
       "2            40       4.09  \n",
       "3           100      10.51  \n",
       "4            99      12.68  \n",
       "..          ...        ...  \n",
       "556          98       2.39  \n",
       "557          75       3.53  \n",
       "558           0      11.41  \n",
       "559           7       9.26  \n",
       "560          40      15.66  \n",
       "\n",
       "[561 rows x 8 columns]"
      ]
     },
     "execution_count": 2,
     "metadata": {},
     "output_type": "execute_result"
    }
   ],
   "source": [
    "#import csv into data frame\n",
    "city_weather_df = pd.read_csv(\"data/city_weather.csv\")\n",
    "city_weather_df = city_weather_df.drop(['Unnamed: 0'], axis = 1)\n",
    "city_weather_df.columns =['city', 'country', 'latitude', 'longitude', 'temp_max', 'humidity', 'cloudiness', 'windspeed']\n",
    "city_weather_df\n"
   ]
  },
  {
   "cell_type": "code",
   "execution_count": 3,
   "metadata": {
    "ExecuteTime": {
     "end_time": "2020-10-17T13:31:25.546166Z",
     "start_time": "2020-10-17T13:31:25.503340Z"
    }
   },
   "outputs": [],
   "source": [
    "#import API Key and form query\n",
    "from api_keys import goog_key\n",
    "gmaps.configure(api_key=goog_key)\n",
    "query_url = \"https://maps.googleapis.com/maps/api/place/nearbysearch/json\"\n",
    "\n",
    "#create parameters list for loop\n",
    "params = {\n",
    "    \"radius\": 5000,\n",
    "    \"types\": \"lodging\",\n",
    "    \"keyword\": \"hotel\",\n",
    "    \"key\": goog_key\n",
    "}\n",
    "\n",
    "#create lists for later use in generating heat maps\n",
    "#cit_lst = city_weather_df[\"city\"]\n",
    "long = city_weather_df[\"latitude\"]\n",
    "lat = city_weather_df[\"longitude\"]\n",
    "coords = zip(lat,long)\n",
    "\n",
    "loc = city_weather_df[[\"latitude\", \"longitude\"]]\n",
    "hum = city_weather_df[\"humidity\"].astype(float)\n",
    "\n",
    "hotel_ent = []    \n",
    "    \n",
    "#create heatmaps\n",
    "hum_map = gmaps.figure()\n",
    "hol_map = gmaps.figure()\n",
    "hot_map = gmaps.figure()"
   ]
  },
  {
   "cell_type": "code",
   "execution_count": 4,
   "metadata": {
    "ExecuteTime": {
     "end_time": "2020-10-17T13:31:27.114906Z",
     "start_time": "2020-10-17T13:31:27.097564Z"
    }
   },
   "outputs": [
    {
     "data": {
      "application/vnd.jupyter.widget-view+json": {
       "model_id": "32c333abceeb4cf4b0980fa6248d1a1f",
       "version_major": 2,
       "version_minor": 0
      },
      "text/plain": [
       "Figure(layout=FigureLayout(height='420px'))"
      ]
     },
     "metadata": {},
     "output_type": "display_data"
    }
   ],
   "source": [
    "#Generate Heat Map\n",
    "heat_map = gmaps.heatmap_layer(loc, weights=hum, \n",
    "                                 dissipating=False, max_intensity=100,\n",
    "                                 point_radius=2)\n",
    "hum_map.add_layer(heat_map)\n",
    "hum_map"
   ]
  },
  {
   "cell_type": "markdown",
   "metadata": {},
   "source": [
    "# Perfect Holiday"
   ]
  },
  {
   "cell_type": "code",
   "execution_count": 5,
   "metadata": {
    "ExecuteTime": {
     "end_time": "2020-10-17T13:31:31.993526Z",
     "start_time": "2020-10-17T13:31:31.986018Z"
    }
   },
   "outputs": [
    {
     "data": {
      "text/plain": [
       "(330, 8)"
      ]
     },
     "execution_count": 5,
     "metadata": {},
     "output_type": "execute_result"
    }
   ],
   "source": [
    "#Narrow for low wind\n",
    "perfect_holiday = city_weather_df[city_weather_df.windspeed< 7]\n",
    "perfect_holiday.shape"
   ]
  },
  {
   "cell_type": "code",
   "execution_count": 6,
   "metadata": {
    "ExecuteTime": {
     "end_time": "2020-10-17T13:31:32.592199Z",
     "start_time": "2020-10-17T13:31:32.587645Z"
    }
   },
   "outputs": [
    {
     "data": {
      "text/plain": [
       "(148, 8)"
      ]
     },
     "execution_count": 6,
     "metadata": {},
     "output_type": "execute_result"
    }
   ],
   "source": [
    "#Narrow Humidity - Humid places always have the best food\n",
    "perfect_holiday = perfect_holiday[perfect_holiday.humidity>= 80]\n",
    "perfect_holiday.shape"
   ]
  },
  {
   "cell_type": "code",
   "execution_count": 7,
   "metadata": {
    "ExecuteTime": {
     "end_time": "2020-10-17T13:31:33.029013Z",
     "start_time": "2020-10-17T13:31:33.024898Z"
    }
   },
   "outputs": [
    {
     "data": {
      "text/plain": [
       "(38, 8)"
      ]
     },
     "execution_count": 7,
     "metadata": {},
     "output_type": "execute_result"
    }
   ],
   "source": [
    "#Narrow for warmer temperatures because hot and humid places have even better food\n",
    "perfect_holiday = perfect_holiday[perfect_holiday.temp_max>= 77]\n",
    "perfect_holiday.shape"
   ]
  },
  {
   "cell_type": "code",
   "execution_count": 8,
   "metadata": {
    "ExecuteTime": {
     "end_time": "2020-10-17T13:31:33.453111Z",
     "start_time": "2020-10-17T13:31:33.449238Z"
    }
   },
   "outputs": [
    {
     "data": {
      "text/plain": [
       "(35, 8)"
      ]
     },
     "execution_count": 8,
     "metadata": {},
     "output_type": "execute_result"
    }
   ],
   "source": [
    "#Narrow for low cloud because blue skies make me smile\n",
    "perfect_holiday = perfect_holiday[perfect_holiday.cloudiness>= 20]\n",
    "perfect_holiday.shape"
   ]
  },
  {
   "cell_type": "code",
   "execution_count": 9,
   "metadata": {
    "ExecuteTime": {
     "end_time": "2020-10-17T13:31:33.853393Z",
     "start_time": "2020-10-17T13:31:33.849588Z"
    }
   },
   "outputs": [],
   "source": [
    "#Create Parameters for use with heat map\n",
    "\n",
    "hol_loc = perfect_holiday[[\"latitude\", \"longitude\"]]\n",
    "hol_hum = perfect_holiday[\"humidity\"].astype(float)\n",
    "cit_lst = perfect_holiday[\"city\"]"
   ]
  },
  {
   "cell_type": "code",
   "execution_count": 10,
   "metadata": {
    "ExecuteTime": {
     "end_time": "2020-10-17T13:31:34.971064Z",
     "start_time": "2020-10-17T13:31:34.962092Z"
    }
   },
   "outputs": [
    {
     "data": {
      "application/vnd.jupyter.widget-view+json": {
       "model_id": "2b1bf86f6ec2492494d5fe93c5c9cd82",
       "version_major": 2,
       "version_minor": 0
      },
      "text/plain": [
       "Figure(layout=FigureLayout(height='420px'))"
      ]
     },
     "metadata": {},
     "output_type": "display_data"
    }
   ],
   "source": [
    "#Generate Heat Map\n",
    "hol_heat = gmaps.heatmap_layer(hol_loc, weights=hol_hum, \n",
    "                                 dissipating=False, max_intensity=50,\n",
    "                                 point_radius=2.5)\n",
    "hol_map.add_layer(hol_heat)\n",
    "hol_map"
   ]
  },
  {
   "cell_type": "code",
   "execution_count": 11,
   "metadata": {
    "ExecuteTime": {
     "end_time": "2020-10-17T13:32:15.229920Z",
     "start_time": "2020-10-17T13:31:36.475066Z"
    }
   },
   "outputs": [
    {
     "name": "stdout",
     "output_type": "stream",
     "text": [
      "Found hotel in Honiara | 1 of 35\n",
      "No hotel found in Sola | 2 of 35\n",
      "No hotel found in Santa | 3 of 35\n",
      "No hotel found in Punta | 4 of 35\n",
      "Found hotel in Sorong | 5 of 35\n",
      "No hotel found in Santa | 6 of 35\n",
      "Found hotel in Kloulklubed | 7 of 35\n",
      "Found hotel in Suso | 8 of 35\n",
      "No hotel found in Dingle | 9 of 35\n",
      "No hotel found in Santa | 10 of 35\n",
      "Found hotel in Caravelas | 11 of 35\n",
      "Found hotel in Bengkulu | 12 of 35\n",
      "Found hotel in Martapura | 13 of 35\n",
      "No hotel found in Iralaya | 14 of 35\n",
      "Found hotel in Meulaboh | 15 of 35\n",
      "Found hotel in Bintulu | 16 of 35\n",
      "No hotel found in Languyan | 17 of 35\n",
      "Found hotel in Madang | 18 of 35\n",
      "Found hotel in Buala | 19 of 35\n",
      "Found hotel in Auki | 20 of 35\n",
      "Found hotel in Acapulco de Juárez | 21 of 35\n",
      "Found hotel in Ixtapa | 22 of 35\n",
      "Found hotel in Suclayin | 23 of 35\n",
      "No hotel found in Loíza | 24 of 35\n",
      "Found hotel in Ranau | 25 of 35\n",
      "Found hotel in Kendari | 26 of 35\n",
      "Found hotel in Pontianak | 27 of 35\n",
      "No hotel found in Luba | 28 of 35\n",
      "Found hotel in Pedernales | 29 of 35\n",
      "Found hotel in Bambanglipuro | 30 of 35\n",
      "No hotel found in Buluang | 31 of 35\n",
      "No hotel found in Mudon | 32 of 35\n",
      "Found hotel in Cartagena | 33 of 35\n",
      "No hotel found in Santa | 34 of 35\n",
      "No hotel found in Biak | 35 of 35\n",
      "Scan Completed 21 Hotels found in 35 cities\n"
     ]
    }
   ],
   "source": [
    "#Set Counts for printing in loop\n",
    "\n",
    "hot_count = 1\n",
    "fnd_count = 0\n",
    "\n",
    "#Loop through rows and and append found hotels to hotel list. Hotels not found enter as NaN to drop later.\n",
    "for index, row in perfect_holiday.iterrows():\n",
    "    lat = row[\"latitude\"]\n",
    "    lng = row[\"longitude\"]\n",
    "    city = row[\"city\"]\n",
    "    params[\"location\"] = f\"{lat},{lng}\"\n",
    "    request = req.get(query_url, params=params)\n",
    "    response = request.json()\n",
    "    \n",
    "    try:\n",
    "        hotel_ent.append(response['results'][0]['name'])\n",
    "        print(f'Found hotel in {city} | {hot_count} of {len(cit_lst)}')\n",
    "        hot_count = hot_count + 1\n",
    "        fnd_count = fnd_count + 1\n",
    "        \n",
    "    except IndexError:\n",
    "        hotel_ent.append(np.nan)\n",
    "        print(f'No hotel found in {city} | {hot_count} of {len(cit_lst)}')\n",
    "        hot_count = hot_count + 1\n",
    "        \n",
    "print(f'Scan Completed {fnd_count} Hotels found in {len(cit_lst)} cities')"
   ]
  },
  {
   "cell_type": "code",
   "execution_count": 15,
   "metadata": {
    "ExecuteTime": {
     "end_time": "2020-10-17T13:33:28.452779Z",
     "start_time": "2020-10-17T13:33:28.438374Z"
    }
   },
   "outputs": [
    {
     "data": {
      "text/html": [
       "<div>\n",
       "<style scoped>\n",
       "    .dataframe tbody tr th:only-of-type {\n",
       "        vertical-align: middle;\n",
       "    }\n",
       "\n",
       "    .dataframe tbody tr th {\n",
       "        vertical-align: top;\n",
       "    }\n",
       "\n",
       "    .dataframe thead th {\n",
       "        text-align: right;\n",
       "    }\n",
       "</style>\n",
       "<table border=\"1\" class=\"dataframe\">\n",
       "  <thead>\n",
       "    <tr style=\"text-align: right;\">\n",
       "      <th></th>\n",
       "      <th>city</th>\n",
       "      <th>country</th>\n",
       "      <th>latitude</th>\n",
       "      <th>longitude</th>\n",
       "      <th>temp_max</th>\n",
       "      <th>humidity</th>\n",
       "      <th>cloudiness</th>\n",
       "      <th>windspeed</th>\n",
       "      <th>Hotel Name</th>\n",
       "    </tr>\n",
       "  </thead>\n",
       "  <tbody>\n",
       "    <tr>\n",
       "      <th>39</th>\n",
       "      <td>Honiara</td>\n",
       "      <td>SB</td>\n",
       "      <td>-9.43</td>\n",
       "      <td>159.95</td>\n",
       "      <td>77.00</td>\n",
       "      <td>94</td>\n",
       "      <td>20</td>\n",
       "      <td>2.24</td>\n",
       "      <td>Coral Sea Resort &amp; Casino</td>\n",
       "    </tr>\n",
       "    <tr>\n",
       "      <th>52</th>\n",
       "      <td>Sorong</td>\n",
       "      <td>ID</td>\n",
       "      <td>-0.88</td>\n",
       "      <td>131.25</td>\n",
       "      <td>77.56</td>\n",
       "      <td>89</td>\n",
       "      <td>100</td>\n",
       "      <td>4.41</td>\n",
       "      <td>Swiss-Belhotel Sorong</td>\n",
       "    </tr>\n",
       "    <tr>\n",
       "      <th>135</th>\n",
       "      <td>Kloulklubed</td>\n",
       "      <td>PW</td>\n",
       "      <td>7.04</td>\n",
       "      <td>134.26</td>\n",
       "      <td>77.00</td>\n",
       "      <td>94</td>\n",
       "      <td>75</td>\n",
       "      <td>5.95</td>\n",
       "      <td>The Adventures Inn-Peleliu</td>\n",
       "    </tr>\n",
       "    <tr>\n",
       "      <th>143</th>\n",
       "      <td>Suso</td>\n",
       "      <td>PH</td>\n",
       "      <td>17.36</td>\n",
       "      <td>120.46</td>\n",
       "      <td>79.09</td>\n",
       "      <td>83</td>\n",
       "      <td>91</td>\n",
       "      <td>3.53</td>\n",
       "      <td>Sorrento Hotel And Resort</td>\n",
       "    </tr>\n",
       "    <tr>\n",
       "      <th>170</th>\n",
       "      <td>Caravelas</td>\n",
       "      <td>BR</td>\n",
       "      <td>-17.71</td>\n",
       "      <td>-39.25</td>\n",
       "      <td>77.56</td>\n",
       "      <td>84</td>\n",
       "      <td>88</td>\n",
       "      <td>5.03</td>\n",
       "      <td>Mar Doce de Abrolhos</td>\n",
       "    </tr>\n",
       "    <tr>\n",
       "      <th>172</th>\n",
       "      <td>Bengkulu</td>\n",
       "      <td>ID</td>\n",
       "      <td>-3.80</td>\n",
       "      <td>102.27</td>\n",
       "      <td>79.25</td>\n",
       "      <td>84</td>\n",
       "      <td>92</td>\n",
       "      <td>5.53</td>\n",
       "      <td>Mercure Bengkulu</td>\n",
       "    </tr>\n",
       "    <tr>\n",
       "      <th>283</th>\n",
       "      <td>Martapura</td>\n",
       "      <td>ID</td>\n",
       "      <td>-3.42</td>\n",
       "      <td>114.85</td>\n",
       "      <td>78.80</td>\n",
       "      <td>100</td>\n",
       "      <td>90</td>\n",
       "      <td>2.24</td>\n",
       "      <td>Grand Dafam Q Hotel Banjarbaru || DHM Syariah</td>\n",
       "    </tr>\n",
       "    <tr>\n",
       "      <th>312</th>\n",
       "      <td>Meulaboh</td>\n",
       "      <td>ID</td>\n",
       "      <td>4.14</td>\n",
       "      <td>96.13</td>\n",
       "      <td>79.88</td>\n",
       "      <td>82</td>\n",
       "      <td>100</td>\n",
       "      <td>1.97</td>\n",
       "      <td>Khalifa homestay \"Rumoh Jamee\"</td>\n",
       "    </tr>\n",
       "    <tr>\n",
       "      <th>326</th>\n",
       "      <td>Bintulu</td>\n",
       "      <td>MY</td>\n",
       "      <td>3.17</td>\n",
       "      <td>113.03</td>\n",
       "      <td>77.00</td>\n",
       "      <td>94</td>\n",
       "      <td>40</td>\n",
       "      <td>2.24</td>\n",
       "      <td>Fairfield By Marriott Bintulu Paragon</td>\n",
       "    </tr>\n",
       "    <tr>\n",
       "      <th>342</th>\n",
       "      <td>Madang</td>\n",
       "      <td>PG</td>\n",
       "      <td>-5.22</td>\n",
       "      <td>145.80</td>\n",
       "      <td>78.60</td>\n",
       "      <td>87</td>\n",
       "      <td>100</td>\n",
       "      <td>5.10</td>\n",
       "      <td>Madang Resort</td>\n",
       "    </tr>\n",
       "    <tr>\n",
       "      <th>343</th>\n",
       "      <td>Buala</td>\n",
       "      <td>SB</td>\n",
       "      <td>-8.14</td>\n",
       "      <td>159.59</td>\n",
       "      <td>81.41</td>\n",
       "      <td>80</td>\n",
       "      <td>82</td>\n",
       "      <td>6.62</td>\n",
       "      <td>Ghaseali Island Resort</td>\n",
       "    </tr>\n",
       "    <tr>\n",
       "      <th>391</th>\n",
       "      <td>Auki</td>\n",
       "      <td>SB</td>\n",
       "      <td>-8.77</td>\n",
       "      <td>160.70</td>\n",
       "      <td>77.90</td>\n",
       "      <td>83</td>\n",
       "      <td>47</td>\n",
       "      <td>3.76</td>\n",
       "      <td>Auki Lodge</td>\n",
       "    </tr>\n",
       "    <tr>\n",
       "      <th>396</th>\n",
       "      <td>Acapulco de Juárez</td>\n",
       "      <td>MX</td>\n",
       "      <td>16.86</td>\n",
       "      <td>-99.89</td>\n",
       "      <td>78.80</td>\n",
       "      <td>83</td>\n",
       "      <td>75</td>\n",
       "      <td>2.24</td>\n",
       "      <td>Hotel Las Brisas Acapulco</td>\n",
       "    </tr>\n",
       "    <tr>\n",
       "      <th>427</th>\n",
       "      <td>Ixtapa</td>\n",
       "      <td>MX</td>\n",
       "      <td>20.70</td>\n",
       "      <td>-105.20</td>\n",
       "      <td>80.89</td>\n",
       "      <td>94</td>\n",
       "      <td>75</td>\n",
       "      <td>3.36</td>\n",
       "      <td>The Westin Resort &amp; Spa, Puerto Vallarta</td>\n",
       "    </tr>\n",
       "    <tr>\n",
       "      <th>449</th>\n",
       "      <td>Suclayin</td>\n",
       "      <td>PH</td>\n",
       "      <td>15.76</td>\n",
       "      <td>121.55</td>\n",
       "      <td>77.68</td>\n",
       "      <td>87</td>\n",
       "      <td>98</td>\n",
       "      <td>1.45</td>\n",
       "      <td>Hotel Lady Nina</td>\n",
       "    </tr>\n",
       "    <tr>\n",
       "      <th>457</th>\n",
       "      <td>Ranau</td>\n",
       "      <td>MY</td>\n",
       "      <td>5.95</td>\n",
       "      <td>116.66</td>\n",
       "      <td>82.27</td>\n",
       "      <td>83</td>\n",
       "      <td>40</td>\n",
       "      <td>0.58</td>\n",
       "      <td>Inap Desa Kilimu</td>\n",
       "    </tr>\n",
       "    <tr>\n",
       "      <th>490</th>\n",
       "      <td>Kendari</td>\n",
       "      <td>ID</td>\n",
       "      <td>-3.94</td>\n",
       "      <td>122.50</td>\n",
       "      <td>78.33</td>\n",
       "      <td>85</td>\n",
       "      <td>31</td>\n",
       "      <td>4.00</td>\n",
       "      <td>Swiss-Belhotel Kendari</td>\n",
       "    </tr>\n",
       "    <tr>\n",
       "      <th>503</th>\n",
       "      <td>Pontianak</td>\n",
       "      <td>ID</td>\n",
       "      <td>-0.03</td>\n",
       "      <td>109.33</td>\n",
       "      <td>78.46</td>\n",
       "      <td>90</td>\n",
       "      <td>90</td>\n",
       "      <td>4.59</td>\n",
       "      <td>HARRIS Hotel Pontianak</td>\n",
       "    </tr>\n",
       "    <tr>\n",
       "      <th>533</th>\n",
       "      <td>Pedernales</td>\n",
       "      <td>DO</td>\n",
       "      <td>18.04</td>\n",
       "      <td>-71.74</td>\n",
       "      <td>77.00</td>\n",
       "      <td>94</td>\n",
       "      <td>20</td>\n",
       "      <td>5.82</td>\n",
       "      <td>Hotel Vista de las Águilas</td>\n",
       "    </tr>\n",
       "    <tr>\n",
       "      <th>535</th>\n",
       "      <td>Bambanglipuro</td>\n",
       "      <td>ID</td>\n",
       "      <td>-7.95</td>\n",
       "      <td>110.28</td>\n",
       "      <td>77.74</td>\n",
       "      <td>82</td>\n",
       "      <td>37</td>\n",
       "      <td>5.03</td>\n",
       "      <td>Paddy D'sawah Guest house</td>\n",
       "    </tr>\n",
       "    <tr>\n",
       "      <th>551</th>\n",
       "      <td>Cartagena</td>\n",
       "      <td>CO</td>\n",
       "      <td>10.40</td>\n",
       "      <td>-75.51</td>\n",
       "      <td>82.40</td>\n",
       "      <td>94</td>\n",
       "      <td>72</td>\n",
       "      <td>4.70</td>\n",
       "      <td>ANANDA BOUTIQUE HOTEL</td>\n",
       "    </tr>\n",
       "  </tbody>\n",
       "</table>\n",
       "</div>"
      ],
      "text/plain": [
       "                   city country  latitude  longitude  temp_max  humidity  \\\n",
       "39              Honiara      SB     -9.43     159.95     77.00        94   \n",
       "52               Sorong      ID     -0.88     131.25     77.56        89   \n",
       "135         Kloulklubed      PW      7.04     134.26     77.00        94   \n",
       "143                Suso      PH     17.36     120.46     79.09        83   \n",
       "170           Caravelas      BR    -17.71     -39.25     77.56        84   \n",
       "172            Bengkulu      ID     -3.80     102.27     79.25        84   \n",
       "283           Martapura      ID     -3.42     114.85     78.80       100   \n",
       "312            Meulaboh      ID      4.14      96.13     79.88        82   \n",
       "326             Bintulu      MY      3.17     113.03     77.00        94   \n",
       "342              Madang      PG     -5.22     145.80     78.60        87   \n",
       "343               Buala      SB     -8.14     159.59     81.41        80   \n",
       "391                Auki      SB     -8.77     160.70     77.90        83   \n",
       "396  Acapulco de Juárez      MX     16.86     -99.89     78.80        83   \n",
       "427              Ixtapa      MX     20.70    -105.20     80.89        94   \n",
       "449            Suclayin      PH     15.76     121.55     77.68        87   \n",
       "457               Ranau      MY      5.95     116.66     82.27        83   \n",
       "490             Kendari      ID     -3.94     122.50     78.33        85   \n",
       "503           Pontianak      ID     -0.03     109.33     78.46        90   \n",
       "533          Pedernales      DO     18.04     -71.74     77.00        94   \n",
       "535       Bambanglipuro      ID     -7.95     110.28     77.74        82   \n",
       "551           Cartagena      CO     10.40     -75.51     82.40        94   \n",
       "\n",
       "     cloudiness  windspeed                                     Hotel Name  \n",
       "39           20       2.24                      Coral Sea Resort & Casino  \n",
       "52          100       4.41                          Swiss-Belhotel Sorong  \n",
       "135          75       5.95                     The Adventures Inn-Peleliu  \n",
       "143          91       3.53                      Sorrento Hotel And Resort  \n",
       "170          88       5.03                           Mar Doce de Abrolhos  \n",
       "172          92       5.53                               Mercure Bengkulu  \n",
       "283          90       2.24  Grand Dafam Q Hotel Banjarbaru || DHM Syariah  \n",
       "312         100       1.97                 Khalifa homestay \"Rumoh Jamee\"  \n",
       "326          40       2.24          Fairfield By Marriott Bintulu Paragon  \n",
       "342         100       5.10                                  Madang Resort  \n",
       "343          82       6.62                         Ghaseali Island Resort  \n",
       "391          47       3.76                                     Auki Lodge  \n",
       "396          75       2.24                      Hotel Las Brisas Acapulco  \n",
       "427          75       3.36       The Westin Resort & Spa, Puerto Vallarta  \n",
       "449          98       1.45                                Hotel Lady Nina  \n",
       "457          40       0.58                               Inap Desa Kilimu  \n",
       "490          31       4.00                         Swiss-Belhotel Kendari  \n",
       "503          90       4.59                         HARRIS Hotel Pontianak  \n",
       "533          20       5.82                     Hotel Vista de las Águilas  \n",
       "535          37       5.03                      Paddy D'sawah Guest house  \n",
       "551          72       4.70                          ANANDA BOUTIQUE HOTEL  "
      ]
     },
     "execution_count": 15,
     "metadata": {},
     "output_type": "execute_result"
    }
   ],
   "source": [
    "#Append List to Perfect Holiday Dataframe and Drop Nan values. Check data Integrity\n",
    "\n",
    "perfect_holiday['Hotel Name']= hotel_ent\n",
    "perfect_holiday = perfect_holiday.dropna()\n",
    "\n",
    "perfect_holiday"
   ]
  },
  {
   "cell_type": "code",
   "execution_count": 16,
   "metadata": {
    "ExecuteTime": {
     "end_time": "2020-10-17T13:33:49.250550Z",
     "start_time": "2020-10-17T13:33:49.246804Z"
    }
   },
   "outputs": [],
   "source": [
    "#Print to csv\n",
    "\n",
    "perfect_holiday.to_csv('output/perfect_holiday.csv')"
   ]
  },
  {
   "cell_type": "code",
   "execution_count": 21,
   "metadata": {
    "ExecuteTime": {
     "end_time": "2020-10-17T13:36:57.870603Z",
     "start_time": "2020-10-17T13:36:57.864109Z"
    }
   },
   "outputs": [],
   "source": [
    "#create parameters for setting markers on map\n",
    "info_box_template = \"\"\"\n",
    "<dl>\n",
    "<dt>Name</dt><dd>{Hotel Name}</dd>\n",
    "<dt>City</dt><dd>{city}</dd>\n",
    "<dt>Country</dt><dd>{country}</dd>\n",
    "</dl>\n",
    "\"\"\"\n",
    "hotinf_df = [info_box_template.format(**row) for index, row in perfect_holiday.iterrows()]\n",
    "hotloc_info = perfect_holiday[[\"latitude\", \"longitude\"]]"
   ]
  },
  {
   "cell_type": "code",
   "execution_count": 18,
   "metadata": {
    "ExecuteTime": {
     "end_time": "2020-10-17T13:35:56.004036Z",
     "start_time": "2020-10-17T13:35:55.967728Z"
    }
   },
   "outputs": [
    {
     "data": {
      "application/vnd.jupyter.widget-view+json": {
       "model_id": "2b1bf86f6ec2492494d5fe93c5c9cd82",
       "version_major": 2,
       "version_minor": 0
      },
      "text/plain": [
       "Figure(layout=FigureLayout(height='420px'))"
      ]
     },
     "metadata": {},
     "output_type": "display_data"
    }
   ],
   "source": [
    "#Place Hotel Markers on Holiday Map\n",
    "hot_mark = gmaps.marker_layer(hotloc_info)\n",
    "hol_map.add_layer(hot_mark)\n",
    "hol_map\n"
   ]
  },
  {
   "cell_type": "code",
   "execution_count": null,
   "metadata": {},
   "outputs": [],
   "source": []
  }
 ],
 "metadata": {
  "kernelspec": {
   "display_name": "Python 3",
   "language": "python",
   "name": "python3"
  },
  "language_info": {
   "codemirror_mode": {
    "name": "ipython",
    "version": 3
   },
   "file_extension": ".py",
   "mimetype": "text/x-python",
   "name": "python",
   "nbconvert_exporter": "python",
   "pygments_lexer": "ipython3",
   "version": "3.7.9"
  }
 },
 "nbformat": 4,
 "nbformat_minor": 4
}
