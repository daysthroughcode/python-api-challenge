{
 "cells": [
  {
   "cell_type": "code",
   "execution_count": 19,
   "metadata": {
    "ExecuteTime": {
     "end_time": "2020-10-15T03:25:43.087641Z",
     "start_time": "2020-10-15T03:25:43.085032Z"
    }
   },
   "outputs": [],
   "source": [
    "import numpy as np\n",
    "import pandas as pd\n",
    "from citipy import citipy\n",
    "import matplotlib.pyplot as plt\n",
    "import requests as req\n",
    "import json"
   ]
  },
  {
   "cell_type": "code",
   "execution_count": 20,
   "metadata": {
    "ExecuteTime": {
     "end_time": "2020-10-15T04:28:58.122579Z",
     "start_time": "2020-10-15T04:28:58.120024Z"
    }
   },
   "outputs": [],
   "source": [
    "#Import API key and construct request url\n",
    "\n",
    "from api_keys import api_key\n",
    "temp_units = \"imperal\"\n",
    "query_url = (f\"http://api.openweathermap.org/data/2.5/weather?appid={api_key}&units={temp_units}&q=\")"
   ]
  },
  {
   "cell_type": "code",
   "execution_count": 27,
   "metadata": {},
   "outputs": [],
   "source": [
    "#Set lists and df for later use\n",
    "#City Lists\n",
    "lat_lst = []\n",
    "lon_lst = []\n",
    "coord_lst = []\n",
    "cit_lst = []\n",
    "\n",
    "cit_lat = []\n",
    "cit_lng = []\n",
    "cit_max_temp = []\n",
    "cit_humidity = []\n",
    "cit_cloud = []\n",
    "cit_wind = []\n",
    "cit_country = [] \n",
    "\n",
    "cit_weather_df = pd.DataFrame(columns=['City', 'Latitude', 'Longitude', 'Max Temperature', 'Humidity %','Wind Speed', 'Country'])"
   ]
  },
  {
   "cell_type": "code",
   "execution_count": 29,
   "metadata": {
    "ExecuteTime": {
     "end_time": "2020-10-15T04:29:00.210533Z",
     "start_time": "2020-10-15T04:29:00.202929Z"
    }
   },
   "outputs": [
    {
     "name": "stdout",
     "output_type": "stream",
     "text": [
      "['illoqqortoormiut', 'arraial do cabo', 'taolanaro', 'punta arenas', 'anjozorobe', 'saldanha', 'katsuura', 'rikitea', 'hobart', 'sayyan', 'mataura', 'joacaba', 'jamestown', 'lebu', 'gien', 'olafsvik', 'oyotun', 'sisimiut', 'kamen', 'nanortalik', 'kodiak', 'alice springs', 'busselton', 'esperance', 'moron', 'norman wells', 'hermanus', 'atuona', 'carballo', 'cape town', 'vostok', 'saint-philippe', 'ushuaia', 'mahebourg', 'puerto baquerizo moreno', 'ambilobe', 'kazalinsk', 'mortka', 'bilma', 'korla', 'takoradi', 'taltal', 'sao jose da coroa grande', 'louisbourg', 'ribeira grande', 'mar del plata', 'leh', 'port elizabeth', 'calvia', 'klaksvik', 'santa cruz', 'hay river', 'airai', 'sug-aksy', 'panjab', 'baiyin', 'marsh harbour', 'hilo', 'port lincoln', 'belmonte', 'solnechnyy', 'codrington', 'tuktoyaktuk', 'sentyabrskiy', 'karakendzha', 'tarhunah', 'bambous virieux', 'comodoro rivadavia', 'sept-iles', 'salamiyah', 'pozo colorado', 'hobyo', 'east london', 'gander', 'upernavik', 'georgetown', 'hualmay', 'makung', 'canton', 'cabedelo', 'sorland', 'iquitos', 'tiksi', 'carnarvon', 'antofagasta', 'bubaque', 'dikson', 'albany', 'kyabe', 'tazovskiy', 'paracuru', 'toliary', 'lompoc', 'chara', 'bathsheba', 'cabo san lucas', 'safaga', 'geraldton', 'saint-georges', 'srednekolymsk', 'tabialan', 'san patricio', 'havoysund', 'constitucion', 'coquimbo', 'ancud', 'gurlan', 'marsa matruh', 'sambava', 'coahuayana', 'fortuna', 'lapi', 'conceicao da barra', 'karwar', 'chapais', 'chuy', 'songling', 'baiao', 'mumford', 'aksu', 'grindavik', 'berdigestyakh', 'nova olimpia', 'bredasdorp', 'olney', 'yellowknife', 'puerto ayora', 'beaverlodge', 'port alfred', 'doctor pedro p. pena', 'kruisfontein', 'dingle', 'indiana', 'seymchan', 'ponta do sol', 'emborion', 'havelock', 'dire', 'touros', 'cidreira', 'victoria', 'talaya', 'hillsborough', 'neya', 'townsville', 'linxia', 'kalemie', 'jizan', 'smolenka', 'fairbanks', 'illela', 'angoram', 'bhatkal', 'marawi', 'port blair', 'san policarpo', 'comarapa', 'souillac', 'resende', 'erenhot', 'bluff', 'iskateley', 'wasilla', 'valparaiso', 'tezu', 'port hardy', 'saskylakh', 'vila franca do campo', 'mitsamiouli', 'luena', 'bara', 'thompson', 'nkowakowa', 'new norfolk', 'sedelnikovo', 'pisco', 'meadow lake', 'lorengau', 'nouadhibou', 'naze', 'soyo', 'plettenberg bay', 'myingyan', 'yulara', 'seoni', 'samarai', 'karratha', 'akdepe', 'okhotsk', 'great bend', 'leuwiliang', 'prijedor', 'ferrol', 'grand gaube', 'heihe', 'torbay', 'plouzane', 'ouallam', 'juba', 'lima', 'khani', 'puerto madryn', 'kaduqli', 'muravlenko', 'pereira barreto', 'winnipeg', 'bengkulu', 'hamilton', 'little current', 'tasiilaq', 'nerchinskiy zavod', 'nhulunbuy', 'umm lajj', 'mount isa', 'sibolga', 'port-cartier', 'hambantota', 'roald', 'luderitz', 'jalu', 'waddan', 'sinnamary', 'tabarqah', 'zastron', 'randudongkal', 'gat', 'banjar', 'karaman', 'thisted', 'galesong', 'camalu', 'puerto leguizamo', 'diffa', 'phan thiet', 'liling', 'jumla', 'silver city', 'vysokogornyy', 'flinders', 'yumen', 'hervey bay', 'kiruna', 'ternate', 'qaanaaq', 'toamasina', 'talakan', 'bolungarvik', 'puro', 'marcona', 'basco', 'morant bay', 'lasa', 'faanui', 'ambodifototra', 'ko samui', 'ca mau', 'daru', 'pangnirtung', 'sitka', 'mae sai', 'saint-pierre', 'nova cruz', 'qaqortoq', 'saint-francois', 'cape girardeau', 'zhuanghe', 'hovd', 'avera', 'araouane', 'fowa', 'gaoual', 'khatanga', 'puerto carreno', 'butterworth', 'jahanabad', 'bandar penggaram', 'duz', 'hithadhoo', 'kavieng', 'mpika', 'turukhansk', 'palabuhanratu', 'sarangani', 'banda aceh', 'kathu', 'coihaique', 'champasak', 'saltpond', 'yacuiba', 'chimore', 'nanchang', 'rio gallegos', 'zhuhai', 'teacapan', 'kosh-agach', 'zunyi', 'mogadishu', 'tommot', 'fairview', 'nizhniy kuranakh', 'castro', 'sibuco', 'zhaozhou', 'nishihara', 'larap', 'taft', 'chernyshevskiy', 'muhos', 'grand river south east', 'nantucket', 'tingi', 'cairns', 'poykovskiy', 'simao', 'george', 'tsnori', 'bitung', 'antalaha', 'tygda', 'westpunt', 'richards bay', 'amapa', 'maloyaz', 'eureka', 'yasnogorsk', 'saint george', 'praxedis guerrero', 'san-pedro', 'broken hill', 'talnakh', 'hunza', 'kampong chhnang', 'kamaishi', 'griffith', 'anloga', 'saint pete beach', 'houma', 'borogontsy', 'northam', 'ostrovnoy', 'mokrous', 'guiong', 'ulaangom', 'nalut', 'vila do maio', 'chhatak', 'yugorsk', 'kalabo', 'clyde river', 'omboue', 'dubrovka', 'lazaro cardenas', 'hsinchu', 'port hedland', 'broome', 'kuytun', 'kalaleh', 'trairi', 'sombrio', 'kokopo', 'luanda', 'porto novo', 'iqaluit', 'jinchang', 'umarkot', 'attawapiskat', 'willowmore', 'cayenne', 'atar', 'shangrao', 'esna', 'la ligua', 'moose factory', 'saint anthony', 'nassau', 'kushiro', 'azimur', 'sao filipe', 'ler', 'seoul', 'barrow', 'lakes entrance', 'bria', 'yokadouma', 'borinskoye', 'ialibu', 'haileybury', 'yar-sale', 'padang', 'estevan', 'chicontepec', 'batsfjord', 'san pedro', 'alotau', 'carutapera', 'ladario', 'hasaki', 'nabire', 'cravo norte', 'carahue', 'aripuana', 'san cristobal', 'kapaa', 'burayevo', 'maba', 'tabuk', 'brumunddal', 'sinop', 'maniitsoq', 'aykhal', 'xining', 'diamantino', 'vinh', 'minab', 'vikhorevka', 'ayan', 'ardesen', 'smithers', 'redcar', 'sangar', 'hofn', 'taguatinga', 'skibbereen', 'leshukonskoye', 'sembe', 'salalah', 'aswan', 'camacha', 'saint-joseph', 'acapulco', 'pringsewu', 'usinsk', 'north bend', 'doha', 'nyurba', 'zlitan', 'daoukro', 'portales', 'dossor', 'patitirion', 'inuvik', 'pangkalanbuun', 'belushya guba', 'bandarbeyla', 'tambo', 'bonavista', 'den helder', 'igarka', 'beloha', 'high level', 'abu zabad', 'kargasok', 'paka', 'grand-santi', 'bani', 'praia da vitoria', 'kysyl-syr', 'puerto escondido', 'pacific grove', 'taunggyi', 'cervo', 'punta alta', 'huarmey', 'pueblo', 'aden', 'gambo', 'half moon bay', 'muswellbrook', 'pregradnaya', 'luancheng', 'posyet', 'san rafael', 'baherden', 'lapua', 'ust-koksa', 'zhanaozen', 'naftah', 'iida', 'mataya', 'bamiantong', 'verkhnevilyuysk', 'guerrero negro', 'kamenka', 'fougamou', 'wakkanai', 'martapura', 'singaraja', 'denpasar', 'sumbawa', 'verkh-usugli', 'malinyi', 'sinaloa', 'kantabanji', 'sorong', 'vazante', 'porto-vecchio', 'bagdarin', 'birao', 'tautira', 'umiray', 'opuwo', 'ratnagiri', 'sao gabriel da cachoeira', 'nanchong', 'kyzyl-suu', 'tandil', 'saint-ambroise', 'sao joao da barra', 'mbini', 'sakakah', 'dudinka', 'tsihombe', 'tateyama', 'xiaolingwei', 'caravelas', 'nisia floresta', 'gamba', 'sabla', 'salinas', 'aksarka', 'urucara', 'zaozerne', 'eyl', 'ixtapa', 'hendijan', 'kloulklubed', 'peterhead', 'irmo', 'kasese', 'luzhou', 'myaundzha', 'aklavik', 'kushmurun', 'lagoa', 'pitea', 'tongren', 'calama', 'severo-kurilsk', 'rio grande', 'dolbeau', 'lumsden', 'mandalgovi', 'pemangkat', 'ostersund', 'okha', 'japura', 'florencia', 'tromso', 'juxtlahuaca', 'itoman', 'gombong', 'umzimvubu', 'manacapuru', 'kapit', 'aktau', 'inhambane', 'boa vista', 'kasongo-lunda', 'san jose', 'camargo', 'archidona', 'fukue', 'viedma', 'pyinmana', 'kabale', 'rassvet', 'yuzhno-yeniseyskiy', 'paradwip', 'lakeside', 'anito', 'amuntai', 'utete', 'iberia', 'wagar', 'ligayan', 'poso', 'hwange', 'manono', 'petrivka', 'tungor', 'san ignacio', 'sahuaripa', 'shelburne', 'kenora', 'lethem', 'nizhneyansk', 'maiduguri', 'togur', 'namibe', 'khuldabad', 'farafangana', 'yashkul', 'batticaloa', 'sinkat', 'fraga', 'mazagao', 'akyab', 'katima mulilo', 'kavaratti', 'melun', 'amazar', 'sulangan', 'ngorongoro', 'jahazpur', 'msanga', 'la palma', 'iisalmi', 'nicoya', 'nova gradiska', 'novyy urgal', 'paamiut', 'odweyne', 'nuuk', 'kurumkan', 'fort saint john', 'belle glade', 'ucluelet', 'vestmannaeyjar', 'rawson', 'siemiatycze', 'thinadhoo', 'clarence town', 'mayo', 'husavik', 'stokmarknes', 'ergani', 'vrangel', 'haines junction', 'central point', 'mocuba', 'rongcheng', 'ariano irpino', 'oriximina', 'portland', 'bam', 'locri', 'mount gambier', 'marang', 'iisaku', 'cotonou', 'chuka', 'chifeng', 'barcelos', 'drumnadrochit', 'bissau', 'meulaboh', 'providencia', 'mareeba', 'sherlovaya gora', 'eirunepe', 'nguiu', 'saint-augustin', 'kourou', 'sinegorye', 'tres arroyos', 'ranong', 'cartagena', 'inirida', 'dhidhdhoo', 'dong hoi', 'bambanglipuro', 'tocopilla', 'port dover', 'zharkent', 'chodavaram', 'kijang', 'zapolyarnyy', 'khorramabad', 'moyale', 'almaznyy', 'jacksonville beach', 'dodola', 'kudahuvadhoo', 'gibsons', 'nioro', 'vanimo', 'boundiali', 'mpulungu', 'vega de alatorre', 'lenexa', 'labuhan', 'altayskoye', 'angelholm', 'chokurdakh', 'necochea', 'oktyabrskiy', 'halifax', 'pasighat', 'qalyub', 'rauma', 'sayat', 'muroto', 'khuzhir', 'guymon', 'bobon', 'santa rosalia', 'jiazi', 'lubin', 'goure', 'pasni', 'grand centre', 'malakal', 'gorontalo', 'san andres', 'cagayan de tawi-tawi', 'lyskovo', 'bodden town', 'yendi', 'superior']\n"
     ]
    }
   ],
   "source": [
    "#create random coordinates list for use against citypy\n",
    "\n",
    "lat_lst = np.random.uniform(low=-75.000, high=75.000, size=1500)\n",
    "lon_lst = np.random.uniform(low=-155.000, high=155.000, size=1500)\n",
    "coord_lst = zip(lat_lst,lon_lst)\n",
    "\n",
    "#append random cities to city list\n",
    "\n",
    "for coord_lst in coord_lst:\n",
    "    city = citipy.nearest_city(coord_lst[0], coord_lst[1]).city_name\n",
    "    if city not in cit_lst:\n",
    "        cit_lst.append(city)\n",
    "        cit_weather_df = cit_weather_df.append(pd.DataFrame({'City': city}, index=[0]), ignore_index=True)\n",
    "\n",
    "print(cit_lst)"
   ]
  },
  {
   "cell_type": "code",
   "execution_count": 30,
   "metadata": {},
   "outputs": [
    {
     "data": {
      "text/plain": [
       "(709, 7)"
      ]
     },
     "execution_count": 30,
     "metadata": {},
     "output_type": "execute_result"
    }
   ],
   "source": [
    "cit_weather_df.shape"
   ]
  },
  {
   "cell_type": "code",
   "execution_count": 31,
   "metadata": {},
   "outputs": [
    {
     "name": "stdout",
     "output_type": "stream",
     "text": [
      "Not Found\n",
      "Not Found\n",
      "Not Found\n",
      "Not Found\n",
      "Not Found\n",
      "Not Found\n",
      "Not Found\n",
      "Not Found\n",
      "Not Found\n",
      "Not Found\n",
      "Not Found\n",
      "Not Found\n",
      "Not Found\n",
      "Not Found\n",
      "Not Found\n",
      "Not Found\n",
      "Not Found\n",
      "Not Found\n",
      "Not Found\n",
      "Not Found\n",
      "Not Found\n",
      "Not Found\n",
      "Not Found\n",
      "Not Found\n",
      "Not Found\n",
      "Not Found\n",
      "Not Found\n",
      "Not Found\n",
      "Not Found\n",
      "Not Found\n",
      "Not Found\n",
      "Not Found\n",
      "Not Found\n"
     ]
    },
    {
     "ename": "KeyboardInterrupt",
     "evalue": "",
     "output_type": "error",
     "traceback": [
      "\u001b[0;31m---------------------------------------------------------------------------\u001b[0m",
      "\u001b[0;31mKeyboardInterrupt\u001b[0m                         Traceback (most recent call last)",
      "\u001b[0;32m<ipython-input-31-2f1609fe330a>\u001b[0m in \u001b[0;36m<module>\u001b[0;34m\u001b[0m\n\u001b[1;32m      5\u001b[0m \u001b[0;32mfor\u001b[0m \u001b[0mcity\u001b[0m \u001b[0;32min\u001b[0m \u001b[0mcit_lst\u001b[0m\u001b[0;34m:\u001b[0m\u001b[0;34m\u001b[0m\u001b[0;34m\u001b[0m\u001b[0m\n\u001b[1;32m      6\u001b[0m     \u001b[0;32mtry\u001b[0m\u001b[0;34m:\u001b[0m\u001b[0;34m\u001b[0m\u001b[0;34m\u001b[0m\u001b[0m\n\u001b[0;32m----> 7\u001b[0;31m         \u001b[0mresponse\u001b[0m \u001b[0;34m=\u001b[0m \u001b[0mreq\u001b[0m\u001b[0;34m.\u001b[0m\u001b[0mget\u001b[0m\u001b[0;34m(\u001b[0m\u001b[0mquery_url\u001b[0m \u001b[0;34m+\u001b[0m \u001b[0mcity\u001b[0m\u001b[0;34m.\u001b[0m\u001b[0mreplace\u001b[0m\u001b[0;34m(\u001b[0m\u001b[0;34m\" \"\u001b[0m\u001b[0;34m,\u001b[0m\u001b[0;34m\"&\"\u001b[0m\u001b[0;34m)\u001b[0m\u001b[0;34m)\u001b[0m\u001b[0;34m.\u001b[0m\u001b[0mjson\u001b[0m\u001b[0;34m(\u001b[0m\u001b[0;34m)\u001b[0m\u001b[0;34m\u001b[0m\u001b[0;34m\u001b[0m\u001b[0m\n\u001b[0m\u001b[1;32m      8\u001b[0m         \u001b[0mcit_lat\u001b[0m\u001b[0;34m.\u001b[0m\u001b[0mappend\u001b[0m\u001b[0;34m(\u001b[0m\u001b[0mresponse\u001b[0m\u001b[0;34m[\u001b[0m\u001b[0;34m'coord'\u001b[0m\u001b[0;34m]\u001b[0m\u001b[0;34m[\u001b[0m\u001b[0;34m'lat'\u001b[0m\u001b[0;34m]\u001b[0m\u001b[0;34m)\u001b[0m\u001b[0;34m\u001b[0m\u001b[0;34m\u001b[0m\u001b[0m\n\u001b[1;32m      9\u001b[0m         \u001b[0mcit_lng\u001b[0m\u001b[0;34m.\u001b[0m\u001b[0mappend\u001b[0m\u001b[0;34m(\u001b[0m\u001b[0mresponse\u001b[0m\u001b[0;34m[\u001b[0m\u001b[0;34m'coord'\u001b[0m\u001b[0;34m]\u001b[0m\u001b[0;34m[\u001b[0m\u001b[0;34m'lon'\u001b[0m\u001b[0;34m]\u001b[0m\u001b[0;34m)\u001b[0m\u001b[0;34m\u001b[0m\u001b[0;34m\u001b[0m\u001b[0m\n",
      "\u001b[0;32m~/opt/anaconda3/lib/python3.8/site-packages/requests/api.py\u001b[0m in \u001b[0;36mget\u001b[0;34m(url, params, **kwargs)\u001b[0m\n\u001b[1;32m     74\u001b[0m \u001b[0;34m\u001b[0m\u001b[0m\n\u001b[1;32m     75\u001b[0m     \u001b[0mkwargs\u001b[0m\u001b[0;34m.\u001b[0m\u001b[0msetdefault\u001b[0m\u001b[0;34m(\u001b[0m\u001b[0;34m'allow_redirects'\u001b[0m\u001b[0;34m,\u001b[0m \u001b[0;32mTrue\u001b[0m\u001b[0;34m)\u001b[0m\u001b[0;34m\u001b[0m\u001b[0;34m\u001b[0m\u001b[0m\n\u001b[0;32m---> 76\u001b[0;31m     \u001b[0;32mreturn\u001b[0m \u001b[0mrequest\u001b[0m\u001b[0;34m(\u001b[0m\u001b[0;34m'get'\u001b[0m\u001b[0;34m,\u001b[0m \u001b[0murl\u001b[0m\u001b[0;34m,\u001b[0m \u001b[0mparams\u001b[0m\u001b[0;34m=\u001b[0m\u001b[0mparams\u001b[0m\u001b[0;34m,\u001b[0m \u001b[0;34m**\u001b[0m\u001b[0mkwargs\u001b[0m\u001b[0;34m)\u001b[0m\u001b[0;34m\u001b[0m\u001b[0;34m\u001b[0m\u001b[0m\n\u001b[0m\u001b[1;32m     77\u001b[0m \u001b[0;34m\u001b[0m\u001b[0m\n\u001b[1;32m     78\u001b[0m \u001b[0;34m\u001b[0m\u001b[0m\n",
      "\u001b[0;32m~/opt/anaconda3/lib/python3.8/site-packages/requests/api.py\u001b[0m in \u001b[0;36mrequest\u001b[0;34m(method, url, **kwargs)\u001b[0m\n\u001b[1;32m     59\u001b[0m     \u001b[0;31m# cases, and look like a memory leak in others.\u001b[0m\u001b[0;34m\u001b[0m\u001b[0;34m\u001b[0m\u001b[0;34m\u001b[0m\u001b[0m\n\u001b[1;32m     60\u001b[0m     \u001b[0;32mwith\u001b[0m \u001b[0msessions\u001b[0m\u001b[0;34m.\u001b[0m\u001b[0mSession\u001b[0m\u001b[0;34m(\u001b[0m\u001b[0;34m)\u001b[0m \u001b[0;32mas\u001b[0m \u001b[0msession\u001b[0m\u001b[0;34m:\u001b[0m\u001b[0;34m\u001b[0m\u001b[0;34m\u001b[0m\u001b[0m\n\u001b[0;32m---> 61\u001b[0;31m         \u001b[0;32mreturn\u001b[0m \u001b[0msession\u001b[0m\u001b[0;34m.\u001b[0m\u001b[0mrequest\u001b[0m\u001b[0;34m(\u001b[0m\u001b[0mmethod\u001b[0m\u001b[0;34m=\u001b[0m\u001b[0mmethod\u001b[0m\u001b[0;34m,\u001b[0m \u001b[0murl\u001b[0m\u001b[0;34m=\u001b[0m\u001b[0murl\u001b[0m\u001b[0;34m,\u001b[0m \u001b[0;34m**\u001b[0m\u001b[0mkwargs\u001b[0m\u001b[0;34m)\u001b[0m\u001b[0;34m\u001b[0m\u001b[0;34m\u001b[0m\u001b[0m\n\u001b[0m\u001b[1;32m     62\u001b[0m \u001b[0;34m\u001b[0m\u001b[0m\n\u001b[1;32m     63\u001b[0m \u001b[0;34m\u001b[0m\u001b[0m\n",
      "\u001b[0;32m~/opt/anaconda3/lib/python3.8/site-packages/requests/sessions.py\u001b[0m in \u001b[0;36mrequest\u001b[0;34m(self, method, url, params, data, headers, cookies, files, auth, timeout, allow_redirects, proxies, hooks, stream, verify, cert, json)\u001b[0m\n\u001b[1;32m    528\u001b[0m         }\n\u001b[1;32m    529\u001b[0m         \u001b[0msend_kwargs\u001b[0m\u001b[0;34m.\u001b[0m\u001b[0mupdate\u001b[0m\u001b[0;34m(\u001b[0m\u001b[0msettings\u001b[0m\u001b[0;34m)\u001b[0m\u001b[0;34m\u001b[0m\u001b[0;34m\u001b[0m\u001b[0m\n\u001b[0;32m--> 530\u001b[0;31m         \u001b[0mresp\u001b[0m \u001b[0;34m=\u001b[0m \u001b[0mself\u001b[0m\u001b[0;34m.\u001b[0m\u001b[0msend\u001b[0m\u001b[0;34m(\u001b[0m\u001b[0mprep\u001b[0m\u001b[0;34m,\u001b[0m \u001b[0;34m**\u001b[0m\u001b[0msend_kwargs\u001b[0m\u001b[0;34m)\u001b[0m\u001b[0;34m\u001b[0m\u001b[0;34m\u001b[0m\u001b[0m\n\u001b[0m\u001b[1;32m    531\u001b[0m \u001b[0;34m\u001b[0m\u001b[0m\n\u001b[1;32m    532\u001b[0m         \u001b[0;32mreturn\u001b[0m \u001b[0mresp\u001b[0m\u001b[0;34m\u001b[0m\u001b[0;34m\u001b[0m\u001b[0m\n",
      "\u001b[0;32m~/opt/anaconda3/lib/python3.8/site-packages/requests/sessions.py\u001b[0m in \u001b[0;36msend\u001b[0;34m(self, request, **kwargs)\u001b[0m\n\u001b[1;32m    641\u001b[0m \u001b[0;34m\u001b[0m\u001b[0m\n\u001b[1;32m    642\u001b[0m         \u001b[0;31m# Send the request\u001b[0m\u001b[0;34m\u001b[0m\u001b[0;34m\u001b[0m\u001b[0;34m\u001b[0m\u001b[0m\n\u001b[0;32m--> 643\u001b[0;31m         \u001b[0mr\u001b[0m \u001b[0;34m=\u001b[0m \u001b[0madapter\u001b[0m\u001b[0;34m.\u001b[0m\u001b[0msend\u001b[0m\u001b[0;34m(\u001b[0m\u001b[0mrequest\u001b[0m\u001b[0;34m,\u001b[0m \u001b[0;34m**\u001b[0m\u001b[0mkwargs\u001b[0m\u001b[0;34m)\u001b[0m\u001b[0;34m\u001b[0m\u001b[0;34m\u001b[0m\u001b[0m\n\u001b[0m\u001b[1;32m    644\u001b[0m \u001b[0;34m\u001b[0m\u001b[0m\n\u001b[1;32m    645\u001b[0m         \u001b[0;31m# Total elapsed time of the request (approximately)\u001b[0m\u001b[0;34m\u001b[0m\u001b[0;34m\u001b[0m\u001b[0;34m\u001b[0m\u001b[0m\n",
      "\u001b[0;32m~/opt/anaconda3/lib/python3.8/site-packages/requests/adapters.py\u001b[0m in \u001b[0;36msend\u001b[0;34m(self, request, stream, timeout, verify, cert, proxies)\u001b[0m\n\u001b[1;32m    437\u001b[0m         \u001b[0;32mtry\u001b[0m\u001b[0;34m:\u001b[0m\u001b[0;34m\u001b[0m\u001b[0;34m\u001b[0m\u001b[0m\n\u001b[1;32m    438\u001b[0m             \u001b[0;32mif\u001b[0m \u001b[0;32mnot\u001b[0m \u001b[0mchunked\u001b[0m\u001b[0;34m:\u001b[0m\u001b[0;34m\u001b[0m\u001b[0;34m\u001b[0m\u001b[0m\n\u001b[0;32m--> 439\u001b[0;31m                 resp = conn.urlopen(\n\u001b[0m\u001b[1;32m    440\u001b[0m                     \u001b[0mmethod\u001b[0m\u001b[0;34m=\u001b[0m\u001b[0mrequest\u001b[0m\u001b[0;34m.\u001b[0m\u001b[0mmethod\u001b[0m\u001b[0;34m,\u001b[0m\u001b[0;34m\u001b[0m\u001b[0;34m\u001b[0m\u001b[0m\n\u001b[1;32m    441\u001b[0m                     \u001b[0murl\u001b[0m\u001b[0;34m=\u001b[0m\u001b[0murl\u001b[0m\u001b[0;34m,\u001b[0m\u001b[0;34m\u001b[0m\u001b[0;34m\u001b[0m\u001b[0m\n",
      "\u001b[0;32m~/opt/anaconda3/lib/python3.8/site-packages/urllib3/connectionpool.py\u001b[0m in \u001b[0;36murlopen\u001b[0;34m(self, method, url, body, headers, retries, redirect, assert_same_host, timeout, pool_timeout, release_conn, chunked, body_pos, **response_kw)\u001b[0m\n\u001b[1;32m    668\u001b[0m \u001b[0;34m\u001b[0m\u001b[0m\n\u001b[1;32m    669\u001b[0m             \u001b[0;31m# Make the request on the httplib connection object.\u001b[0m\u001b[0;34m\u001b[0m\u001b[0;34m\u001b[0m\u001b[0;34m\u001b[0m\u001b[0m\n\u001b[0;32m--> 670\u001b[0;31m             httplib_response = self._make_request(\n\u001b[0m\u001b[1;32m    671\u001b[0m                 \u001b[0mconn\u001b[0m\u001b[0;34m,\u001b[0m\u001b[0;34m\u001b[0m\u001b[0;34m\u001b[0m\u001b[0m\n\u001b[1;32m    672\u001b[0m                 \u001b[0mmethod\u001b[0m\u001b[0;34m,\u001b[0m\u001b[0;34m\u001b[0m\u001b[0;34m\u001b[0m\u001b[0m\n",
      "\u001b[0;32m~/opt/anaconda3/lib/python3.8/site-packages/urllib3/connectionpool.py\u001b[0m in \u001b[0;36m_make_request\u001b[0;34m(self, conn, method, url, timeout, chunked, **httplib_request_kw)\u001b[0m\n\u001b[1;32m    424\u001b[0m                     \u001b[0;31m# Python 3 (including for exceptions like SystemExit).\u001b[0m\u001b[0;34m\u001b[0m\u001b[0;34m\u001b[0m\u001b[0;34m\u001b[0m\u001b[0m\n\u001b[1;32m    425\u001b[0m                     \u001b[0;31m# Otherwise it looks like a bug in the code.\u001b[0m\u001b[0;34m\u001b[0m\u001b[0;34m\u001b[0m\u001b[0;34m\u001b[0m\u001b[0m\n\u001b[0;32m--> 426\u001b[0;31m                     \u001b[0msix\u001b[0m\u001b[0;34m.\u001b[0m\u001b[0mraise_from\u001b[0m\u001b[0;34m(\u001b[0m\u001b[0me\u001b[0m\u001b[0;34m,\u001b[0m \u001b[0;32mNone\u001b[0m\u001b[0;34m)\u001b[0m\u001b[0;34m\u001b[0m\u001b[0;34m\u001b[0m\u001b[0m\n\u001b[0m\u001b[1;32m    427\u001b[0m         \u001b[0;32mexcept\u001b[0m \u001b[0;34m(\u001b[0m\u001b[0mSocketTimeout\u001b[0m\u001b[0;34m,\u001b[0m \u001b[0mBaseSSLError\u001b[0m\u001b[0;34m,\u001b[0m \u001b[0mSocketError\u001b[0m\u001b[0;34m)\u001b[0m \u001b[0;32mas\u001b[0m \u001b[0me\u001b[0m\u001b[0;34m:\u001b[0m\u001b[0;34m\u001b[0m\u001b[0;34m\u001b[0m\u001b[0m\n\u001b[1;32m    428\u001b[0m             \u001b[0mself\u001b[0m\u001b[0;34m.\u001b[0m\u001b[0m_raise_timeout\u001b[0m\u001b[0;34m(\u001b[0m\u001b[0merr\u001b[0m\u001b[0;34m=\u001b[0m\u001b[0me\u001b[0m\u001b[0;34m,\u001b[0m \u001b[0murl\u001b[0m\u001b[0;34m=\u001b[0m\u001b[0murl\u001b[0m\u001b[0;34m,\u001b[0m \u001b[0mtimeout_value\u001b[0m\u001b[0;34m=\u001b[0m\u001b[0mread_timeout\u001b[0m\u001b[0;34m)\u001b[0m\u001b[0;34m\u001b[0m\u001b[0;34m\u001b[0m\u001b[0m\n",
      "\u001b[0;32m~/opt/anaconda3/lib/python3.8/site-packages/urllib3/packages/six.py\u001b[0m in \u001b[0;36mraise_from\u001b[0;34m(value, from_value)\u001b[0m\n",
      "\u001b[0;32m~/opt/anaconda3/lib/python3.8/site-packages/urllib3/connectionpool.py\u001b[0m in \u001b[0;36m_make_request\u001b[0;34m(self, conn, method, url, timeout, chunked, **httplib_request_kw)\u001b[0m\n\u001b[1;32m    419\u001b[0m                 \u001b[0;31m# Python 3\u001b[0m\u001b[0;34m\u001b[0m\u001b[0;34m\u001b[0m\u001b[0;34m\u001b[0m\u001b[0m\n\u001b[1;32m    420\u001b[0m                 \u001b[0;32mtry\u001b[0m\u001b[0;34m:\u001b[0m\u001b[0;34m\u001b[0m\u001b[0;34m\u001b[0m\u001b[0m\n\u001b[0;32m--> 421\u001b[0;31m                     \u001b[0mhttplib_response\u001b[0m \u001b[0;34m=\u001b[0m \u001b[0mconn\u001b[0m\u001b[0;34m.\u001b[0m\u001b[0mgetresponse\u001b[0m\u001b[0;34m(\u001b[0m\u001b[0;34m)\u001b[0m\u001b[0;34m\u001b[0m\u001b[0;34m\u001b[0m\u001b[0m\n\u001b[0m\u001b[1;32m    422\u001b[0m                 \u001b[0;32mexcept\u001b[0m \u001b[0mBaseException\u001b[0m \u001b[0;32mas\u001b[0m \u001b[0me\u001b[0m\u001b[0;34m:\u001b[0m\u001b[0;34m\u001b[0m\u001b[0;34m\u001b[0m\u001b[0m\n\u001b[1;32m    423\u001b[0m                     \u001b[0;31m# Remove the TypeError from the exception chain in\u001b[0m\u001b[0;34m\u001b[0m\u001b[0;34m\u001b[0m\u001b[0;34m\u001b[0m\u001b[0m\n",
      "\u001b[0;32m~/opt/anaconda3/lib/python3.8/http/client.py\u001b[0m in \u001b[0;36mgetresponse\u001b[0;34m(self)\u001b[0m\n\u001b[1;32m   1330\u001b[0m         \u001b[0;32mtry\u001b[0m\u001b[0;34m:\u001b[0m\u001b[0;34m\u001b[0m\u001b[0;34m\u001b[0m\u001b[0m\n\u001b[1;32m   1331\u001b[0m             \u001b[0;32mtry\u001b[0m\u001b[0;34m:\u001b[0m\u001b[0;34m\u001b[0m\u001b[0;34m\u001b[0m\u001b[0m\n\u001b[0;32m-> 1332\u001b[0;31m                 \u001b[0mresponse\u001b[0m\u001b[0;34m.\u001b[0m\u001b[0mbegin\u001b[0m\u001b[0;34m(\u001b[0m\u001b[0;34m)\u001b[0m\u001b[0;34m\u001b[0m\u001b[0;34m\u001b[0m\u001b[0m\n\u001b[0m\u001b[1;32m   1333\u001b[0m             \u001b[0;32mexcept\u001b[0m \u001b[0mConnectionError\u001b[0m\u001b[0;34m:\u001b[0m\u001b[0;34m\u001b[0m\u001b[0;34m\u001b[0m\u001b[0m\n\u001b[1;32m   1334\u001b[0m                 \u001b[0mself\u001b[0m\u001b[0;34m.\u001b[0m\u001b[0mclose\u001b[0m\u001b[0;34m(\u001b[0m\u001b[0;34m)\u001b[0m\u001b[0;34m\u001b[0m\u001b[0;34m\u001b[0m\u001b[0m\n",
      "\u001b[0;32m~/opt/anaconda3/lib/python3.8/http/client.py\u001b[0m in \u001b[0;36mbegin\u001b[0;34m(self)\u001b[0m\n\u001b[1;32m    301\u001b[0m         \u001b[0;31m# read until we get a non-100 response\u001b[0m\u001b[0;34m\u001b[0m\u001b[0;34m\u001b[0m\u001b[0;34m\u001b[0m\u001b[0m\n\u001b[1;32m    302\u001b[0m         \u001b[0;32mwhile\u001b[0m \u001b[0;32mTrue\u001b[0m\u001b[0;34m:\u001b[0m\u001b[0;34m\u001b[0m\u001b[0;34m\u001b[0m\u001b[0m\n\u001b[0;32m--> 303\u001b[0;31m             \u001b[0mversion\u001b[0m\u001b[0;34m,\u001b[0m \u001b[0mstatus\u001b[0m\u001b[0;34m,\u001b[0m \u001b[0mreason\u001b[0m \u001b[0;34m=\u001b[0m \u001b[0mself\u001b[0m\u001b[0;34m.\u001b[0m\u001b[0m_read_status\u001b[0m\u001b[0;34m(\u001b[0m\u001b[0;34m)\u001b[0m\u001b[0;34m\u001b[0m\u001b[0;34m\u001b[0m\u001b[0m\n\u001b[0m\u001b[1;32m    304\u001b[0m             \u001b[0;32mif\u001b[0m \u001b[0mstatus\u001b[0m \u001b[0;34m!=\u001b[0m \u001b[0mCONTINUE\u001b[0m\u001b[0;34m:\u001b[0m\u001b[0;34m\u001b[0m\u001b[0;34m\u001b[0m\u001b[0m\n\u001b[1;32m    305\u001b[0m                 \u001b[0;32mbreak\u001b[0m\u001b[0;34m\u001b[0m\u001b[0;34m\u001b[0m\u001b[0m\n",
      "\u001b[0;32m~/opt/anaconda3/lib/python3.8/http/client.py\u001b[0m in \u001b[0;36m_read_status\u001b[0;34m(self)\u001b[0m\n\u001b[1;32m    262\u001b[0m \u001b[0;34m\u001b[0m\u001b[0m\n\u001b[1;32m    263\u001b[0m     \u001b[0;32mdef\u001b[0m \u001b[0m_read_status\u001b[0m\u001b[0;34m(\u001b[0m\u001b[0mself\u001b[0m\u001b[0;34m)\u001b[0m\u001b[0;34m:\u001b[0m\u001b[0;34m\u001b[0m\u001b[0;34m\u001b[0m\u001b[0m\n\u001b[0;32m--> 264\u001b[0;31m         \u001b[0mline\u001b[0m \u001b[0;34m=\u001b[0m \u001b[0mstr\u001b[0m\u001b[0;34m(\u001b[0m\u001b[0mself\u001b[0m\u001b[0;34m.\u001b[0m\u001b[0mfp\u001b[0m\u001b[0;34m.\u001b[0m\u001b[0mreadline\u001b[0m\u001b[0;34m(\u001b[0m\u001b[0m_MAXLINE\u001b[0m \u001b[0;34m+\u001b[0m \u001b[0;36m1\u001b[0m\u001b[0;34m)\u001b[0m\u001b[0;34m,\u001b[0m \u001b[0;34m\"iso-8859-1\"\u001b[0m\u001b[0;34m)\u001b[0m\u001b[0;34m\u001b[0m\u001b[0;34m\u001b[0m\u001b[0m\n\u001b[0m\u001b[1;32m    265\u001b[0m         \u001b[0;32mif\u001b[0m \u001b[0mlen\u001b[0m\u001b[0;34m(\u001b[0m\u001b[0mline\u001b[0m\u001b[0;34m)\u001b[0m \u001b[0;34m>\u001b[0m \u001b[0m_MAXLINE\u001b[0m\u001b[0;34m:\u001b[0m\u001b[0;34m\u001b[0m\u001b[0;34m\u001b[0m\u001b[0m\n\u001b[1;32m    266\u001b[0m             \u001b[0;32mraise\u001b[0m \u001b[0mLineTooLong\u001b[0m\u001b[0;34m(\u001b[0m\u001b[0;34m\"status line\"\u001b[0m\u001b[0;34m)\u001b[0m\u001b[0;34m\u001b[0m\u001b[0;34m\u001b[0m\u001b[0m\n",
      "\u001b[0;32m~/opt/anaconda3/lib/python3.8/socket.py\u001b[0m in \u001b[0;36mreadinto\u001b[0;34m(self, b)\u001b[0m\n\u001b[1;32m    667\u001b[0m         \u001b[0;32mwhile\u001b[0m \u001b[0;32mTrue\u001b[0m\u001b[0;34m:\u001b[0m\u001b[0;34m\u001b[0m\u001b[0;34m\u001b[0m\u001b[0m\n\u001b[1;32m    668\u001b[0m             \u001b[0;32mtry\u001b[0m\u001b[0;34m:\u001b[0m\u001b[0;34m\u001b[0m\u001b[0;34m\u001b[0m\u001b[0m\n\u001b[0;32m--> 669\u001b[0;31m                 \u001b[0;32mreturn\u001b[0m \u001b[0mself\u001b[0m\u001b[0;34m.\u001b[0m\u001b[0m_sock\u001b[0m\u001b[0;34m.\u001b[0m\u001b[0mrecv_into\u001b[0m\u001b[0;34m(\u001b[0m\u001b[0mb\u001b[0m\u001b[0;34m)\u001b[0m\u001b[0;34m\u001b[0m\u001b[0;34m\u001b[0m\u001b[0m\n\u001b[0m\u001b[1;32m    670\u001b[0m             \u001b[0;32mexcept\u001b[0m \u001b[0mtimeout\u001b[0m\u001b[0;34m:\u001b[0m\u001b[0;34m\u001b[0m\u001b[0;34m\u001b[0m\u001b[0m\n\u001b[1;32m    671\u001b[0m                 \u001b[0mself\u001b[0m\u001b[0;34m.\u001b[0m\u001b[0m_timeout_occurred\u001b[0m \u001b[0;34m=\u001b[0m \u001b[0;32mTrue\u001b[0m\u001b[0;34m\u001b[0m\u001b[0;34m\u001b[0m\u001b[0m\n",
      "\u001b[0;31mKeyboardInterrupt\u001b[0m: "
     ]
    }
   ],
   "source": [
    "#create dataframe\n",
    "cit_cnt = 0\n",
    "set_cnt = 1\n",
    "\n",
    "for city in cit_lst:\n",
    "    try:\n",
    "        response = req.get(query_url + city.replace(\" \",\"&\")).json()\n",
    "        cit_lat.append(response['coord']['lat'])\n",
    "        cit_lng.append(response['coord']['lon'])\n",
    "        cit_max_temp.append(response['main']['temp_max'])\n",
    "        cit_humidity.append(response['main']['humidity'])\n",
    "        cit_cloud.append(response['clouds']['all'])\n",
    "        cit_wind.append(response['wind']['speed'])\n",
    "        cit_country.append(response['sys']['country'])\n",
    "        if cit_cnt > 49:\n",
    "            cit_cnt = 1\n",
    "            set_cnt += 1\n",
    "            cit_nxt.append(city)\n",
    "        else:\n",
    "            cit_cnt += 1\n",
    "            cit_nxt.append(city)\n",
    "        print(f\" City Number {cit_cnt} of Set {set_cnt} | {city}\")\n",
    "    except Exception:\n",
    "        print(\"Not Found\")\n",
    "print(\"Complete\")"
   ]
  },
  {
   "cell_type": "code",
   "execution_count": null,
   "metadata": {},
   "outputs": [],
   "source": [
    "cit_weather_df"
   ]
  },
  {
   "cell_type": "code",
   "execution_count": null,
   "metadata": {},
   "outputs": [],
   "source": []
  }
 ],
 "metadata": {
  "kernelspec": {
   "display_name": "Python 3",
   "language": "python",
   "name": "python3"
  },
  "language_info": {
   "codemirror_mode": {
    "name": "ipython",
    "version": 3
   },
   "file_extension": ".py",
   "mimetype": "text/x-python",
   "name": "python",
   "nbconvert_exporter": "python",
   "pygments_lexer": "ipython3",
   "version": "3.8.3"
  }
 },
 "nbformat": 4,
 "nbformat_minor": 4
}
